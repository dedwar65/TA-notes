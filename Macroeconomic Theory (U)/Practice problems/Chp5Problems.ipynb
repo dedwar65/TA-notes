{
 "cells": [
  {
   "cell_type": "markdown",
   "metadata": {},
   "source": [
    "## Problems and applications\n",
    "\n",
    "1. From the quantity equation $M \\overline{V} = P Y$ and from the fisher equation $i = r + \\pi$, we can compute the following:\n",
    "\n",
    "* For the growth in nominal GDP,\n",
    "\\begin{gather*}\n",
    "\\% \\Delta M + \\% \\Delta V = \\% \\Delta P + \\% \\Delta Y \\\\\n",
    "\\% \\Delta M = \\% \\Delta P + \\% \\Delta Y \\\\\n",
    "8\\% = \\% \\Delta P + \\% \\Delta Y \\\\\n",
    "\\end{gather*}\n",
    "\n",
    "* For the inflation rate,\n",
    "\\begin{gather*}\n",
    "\\% \\Delta M = \\% \\Delta P + \\% \\Delta Y \\\\\n",
    "8\\% = \\% \\Delta P + \\% 3 \\\\\n",
    "\\implies \\% \\Delta P = \\% 5 \\\\\n",
    "\\end{gather*}\n",
    "\n",
    "* For the growth in the real interest rate,\n",
    "\\begin{gather*}\n",
    "i = r + \\pi  \\\\\n",
    "\\% \\Delta i = \\% \\Delta r + \\% \\Delta P \\\\\n",
    "9\\% = \\% \\Delta r + \\% 5 \\\\\n",
    "\\implies \\% \\Delta r = \\% 4\n",
    "\\end{gather*}"
   ]
  },
  {
   "cell_type": "markdown",
   "metadata": {},
   "source": [
    "2. The money demand function is given by $(\\frac{M}{P})^{d} = k Y$. \n",
    "\n",
    "* The average inflation rate is \n",
    "\n",
    "\\begin{gather*}\n",
    "\\% \\Delta M - \\% \\Delta P = \\% \\Delta Y \\\\\n",
    "12 \\% - \\% \\Delta P = 4 \\% \\\\\n",
    "\\implies \\% \\Delta P = 8 \\% \\\\\n",
    "\\end{gather*}\n",
    "\n",
    "* If real income growth was higher, then the inflation rate would be lower.\n",
    "\n",
    "* $k$ can be interpreted as how much real money balances is demanded for each unit of income $Y$.\n",
    "\n",
    "* Recall, $$ \\% \\Delta M + \\% \\Delta V = \\% \\Delta P + \\% \\Delta Y .$$ Since the term $\\% \\Delta V$ is no longer constant, the left hand side of the expression would be higher. Assuming the term $\\% \\Delta Y$ remains constant as well, this would imply an increase in the inflation rate.\n",
    "\n",
    "3. The money demand function is given by $(\\frac{M}{P})^{d} = .2 \\frac{Y}{\\sqrt{i}}$. \n",
    "\n",
    "* Notice that $k = \\frac{.2}{\\sqrt{i}} \\implies \\frac{1}{k} = \\frac{\\sqrt{i}}{.2} = V$\n",
    "\n",
    "    In this case, the velocity of money depends on the interest rate.\n",
    "\n",
    "* With $i = \\% 4$, we have\n",
    "\n",
    "$$ \\frac{\\sqrt{.04}}{.2} = \\frac{.2}{.2} = 1 = V $$\n",
    "\n",
    "* From the quantity equation, we have \n",
    "$$M V = P Y \\implies (1200)(1) = P(1000) \\implies P =\\frac{1200}{1000} =1.2$$\n",
    "\n",
    "* Using the fisher equation adjusted for inflation expectations, $i = r + \\mathbb{E}[\\pi]$, if these expectations increase by five percentage points, and $r$ stays the same, then the L.H.S. of the expression must also grow by five percentage points. Thus, $i = .09$ or $9\\%$.\n",
    "\n",
    "* The new velocity of money is given by $\\frac{\\sqrt{.09}}{.2} = \\frac{.3}{.2} = 1.5 = V$.\n",
    "\n",
    "* Recall the quantity equation $M V = P Y$, if $M,Y$ unchanged and $V$ increases from $1$ to $1.5$. then the price level must increases given the expression $$ \\% \\Delta M + \\% \\Delta V = \\% \\Delta P + \\% \\Delta Y .$$\n",
    "\n",
    "* To keep the price level unchanged at $P =\\frac{1200}{1000}$ when $V$ is $1.5$, we need to find the value of money supply which satisfies $$ M' * 1.5 = P* (1000) $$\n",
    "$$ \\implies M' = 800.$$\n"
   ]
  },
  {
   "cell_type": "markdown",
   "metadata": {},
   "source": [
    "4. The money demand function is given by $(\\frac{M}{P})^{d} = \\frac{Y}{5i}$. \n",
    "\n",
    "* If $i$ has a constant growth rate, then the sum of the growth rates on the R.H.S. is $g$. Since L.H.S. $=$ R.H.S, the growth rate of $\\frac{M}{P}$ must also be $g$.\n",
    "\n",
    "* By the quantity of money equation, $M V = P Y$, so $$ M * 5i = P Y $$ and $V = 5i$.\n",
    "\n",
    "* If $i$ is has a constant growth rate, then $V = 5i$ is also constant.\n",
    "\n",
    "* There will be an associated permanent increase in the velocity of money. Since there was no change in the growth rate of interest rates, then the growth rate of velocity remains unchanged as well.\n",
    "\n",
    "* Suppose the economy is at the target rate of inflation. Then, $\\% \\Delta P = \\pi $ and\n",
    "\n",
    "$$ \\% \\Delta M + \\% \\Delta V = \\pi + \\% \\Delta Y  $$\n",
    "$$ \\implies \\% \\Delta M = \\pi + \\% \\Delta Y - \\% \\Delta V  .$$"
   ]
  },
  {
   "cell_type": "markdown",
   "metadata": {},
   "source": []
  }
 ],
 "metadata": {
  "kernelspec": {
   "display_name": "Python 3 (ipykernel)",
   "language": "python",
   "name": "python3"
  },
  "language_info": {
   "codemirror_mode": {
    "name": "ipython",
    "version": 3
   },
   "file_extension": ".py",
   "mimetype": "text/x-python",
   "name": "python",
   "nbconvert_exporter": "python",
   "pygments_lexer": "ipython3",
   "version": "3.10.14"
  }
 },
 "nbformat": 4,
 "nbformat_minor": 2
}
