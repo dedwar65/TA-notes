{
 "cells": [
  {
   "cell_type": "markdown",
   "metadata": {},
   "source": [
    "## Problems and applications\n",
    "\n",
    "1. For two countries with the same production function $$ F(K,L) = K^{\\frac{1}{3}}L^{\\frac{2}{3}}, $$\n",
    "\n",
    "* Notice that \n",
    "\n",
    "\\begin{gather*}\n",
    "(zK)^{\\frac{1}{3}} (zL)^{\\frac{2}{3}}\\\\\n",
    "= z^{\\frac{1}{3}} z^{\\frac{2}{3}} (K)^{\\frac{1}{3}} (L)^{\\frac{2}{3}} \\\\\n",
    "= z (K)^{\\frac{1}{3}} (L)^{\\frac{2}{3}} = z F(K,L)\\\\\n",
    "\\end{gather*}\n",
    "\n",
    "so this production function exhibits constant returns to scale.\n",
    "\n",
    "* The per-worker production function is given by \n",
    "\n",
    "$$ \\frac{Y}{L} = \\frac{K^{\\frac{1}{3}} L^{\\frac{2}{3}}}{L} = \\bigg(\\frac{K}{L} \\bigg)^{\\frac{1}{3}} $$\n",
    "\n",
    "$$ \\implies y = k^{\\frac{1}{3}} $$\n",
    "\n",
    "* Suppose that $\\delta = .2$ is the same for both countries, but they differ in their saving rates: $s_A = .1, s_B = .3$. \n",
    "\n",
    "    Recall the expression for the evolution of capital $$\\delta k = sf(k) - \\delta k.$$ Using the steady state condition, we can compute the steady state level of capital, output, and consumption for each country.\n",
    "\n",
    "For country A,\n",
    "\n",
    "\\begin{gather*}\n",
    "0 = s_A k^{\\frac{1}{3}} - \\delta k \\\\\n",
    "0 = (.1) k^{\\frac{1}{3}} - (.2) k \\\\\n",
    "(.1) k^{\\frac{1}{3}} = (.2) k \\implies k^{*}_{A} = \\bigg(\\frac{1}{2}\\bigg)^{\\frac{3}{2}} = .3535\n",
    "\\end{gather*}\n",
    "\n",
    "$$ f(k^{*}_{A}) = (.3535)^{\\frac{1}{3}} = .7071 $$\n",
    "\n",
    "$$ c^{*}_{A} = f(k^{*}_{A}) - \\delta k^{*}_{A} \\implies .7071 - (.2)(.3535) = .6364 $$\n",
    "\n",
    "For country B,\n",
    "\n",
    "\\begin{gather*}\n",
    "0 = s_B k^{\\frac{1}{3}} - \\delta k \\\\\n",
    "0 = (.3) k^{\\frac{1}{3}} - (.2) k \\\\\n",
    "(.3) k^{\\frac{1}{3}} = (.2) k \\implies k^{*}_{B} = \\bigg(\\frac{3}{2}\\bigg)^{\\frac{3}{2}} = 1.8371\n",
    "\\end{gather*}\n",
    "\n",
    "$$ f(k^{*}_{B}) = (1.8371)^{\\frac{1}{3}} = 1.2247 $$\n",
    "\n",
    "$$ c^{*}_{B} = f(k^{*}_{B}) - \\delta k^{*}_{B} \\implies 1.2247 - (.2)(1.8371) = .8573 $$"
   ]
  },
  {
   "cell_type": "markdown",
   "metadata": {},
   "source": [
    "2. If capital is unaffected, but labor falls dramatically, the following changes will occur.\n",
    "\n",
    "* Consider a concrete example with a production function that exhibits constant returns to scale, such as $$ F(K,L) = K^{\\frac{1}{2}} L^{\\frac{1}{2}}. $$ Suppose that before the war $K=100, L=100$ and after the war, capital is unchanged but $L' = 50$. \n",
    "\n",
    "    Then, by the properties of the production function, total output falls, since $$ F(K,L) = F(100,100) > F(100,50) = F(K,L').$$\n",
    "\n",
    "    However, output per worker $F(\\frac{K}{L})$ will immediately rise. To see this, notice that $$ F\\bigg(\\frac{K}{L}\\bigg) = F\\bigg(\\frac{100}{100}\\bigg) = \\sqrt{\\frac{100}{100}} < \\sqrt{\\frac{100}{50}} = F\\bigg(\\frac{100}{50}\\bigg) = F\\bigg(\\frac{K}{L'}\\bigg) .$$\n",
    "\n",
    "    Intuitively, there is more capital per worker since there are less workers and the same level of capital before the war. This corresponds to output per worker being higher.\n",
    "\n",
    "\n",
    "3. Consider an economy with the following production function $$ Y = K^{.4} L^{.6} .$$\n",
    "\n",
    "* The per worker production function is given by $$ \\frac{Y}{L} = \\frac{K^{.4} L^{.6}}{L} = \\bigg(\\frac{K}{L} \\bigg)^{.4} \\implies y = k^{.4} $$\n",
    "\n",
    "* In the steady state, $$ 0 = s f(k^*) - \\delta k^* $$\n",
    "$$ \\implies \\delta k^* = s (k^*)^{.4} \\implies (k^*)^{\\frac{6}{10}} = \\frac{s}{\\delta} \\implies k^* = \\bigg( \\frac{s}{\\delta} \\bigg)^{\\frac{10}{6}}$$\n",
    "\n",
    "Output is given by $$ y^* = (k^*)^{\\frac{4}{10}} = \\bigg[ \\bigg( \\frac{s}{\\delta} \\bigg)^{\\frac{10}{6}} \\bigg]^{\\frac{4}{10}} = \\bigg( \\frac{s}{\\delta} \\bigg)^{\\frac{4}{6}} $$\n",
    "\n",
    "Consumption is given by $$ c^* = y^* - \\delta k^* = \\bigg( \\frac{s}{\\delta} \\bigg)^{\\frac{4}{6}} - \\delta \\bigg( \\frac{s}{\\delta} \\bigg)^{\\frac{10}{6}}$$\n",
    "\n",
    "* For $y = k^{.4}$, the marginal product of capital is given by $$ MPK = .4 k^{-.6} = \\frac{.4}{k^{.6}} .$$\n",
    "\n",
    "Using the steady state $k^* = \\bigg( \\frac{s}{\\delta} \\bigg)^{\\frac{10}{6}}$ here, then $$ MPK = \\frac{.4}{ \\bigg[ \\bigg( \\frac{s}{\\delta} \\bigg)^{\\frac{10}{6}} \\bigg]^{\\frac{6}{10}}} = \\frac{.4}{\\frac{s}{\\delta}} = \\frac{.4 \\delta}{s} $$"
   ]
  },
  {
   "cell_type": "markdown",
   "metadata": {},
   "source": []
  },
  {
   "cell_type": "markdown",
   "metadata": {},
   "source": []
  }
 ],
 "metadata": {
  "kernelspec": {
   "display_name": "Python 3 (ipykernel)",
   "language": "python",
   "name": "python3"
  },
  "language_info": {
   "codemirror_mode": {
    "name": "ipython",
    "version": 3
   },
   "file_extension": ".py",
   "mimetype": "text/x-python",
   "name": "python",
   "nbconvert_exporter": "python",
   "pygments_lexer": "ipython3",
   "version": "3.11.0"
  }
 },
 "nbformat": 4,
 "nbformat_minor": 2
}
