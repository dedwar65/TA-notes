{
 "cells": [
  {
   "cell_type": "markdown",
   "metadata": {},
   "source": [
    "## Questions for review\n",
    "\n",
    "1. Given that we can rewrite the national income accounts identity as $$ S - I = NX,$$ **net capital outflow** is defined as the difference between saving and investment, the left hand side of the equation. The **trade balance** is the right hand side of the equation, and is defined as the difference between exports and imports in the setting where they are not assumed to be equal.\n",
    "\n",
    "2. The **nominal exchange rate** is the relative price of the currencies of two countries. The **real exchange rate** is the relative price of the goods of two countries.\n",
    "\n",
    "3. Suppose a small open economy cuts defense spending; this corresponds to a reduction in $G$. In this case, national saving, defined as $S = Y - C - G$, must increase. Investment is unaffected. So, net capital outflows rises; domestic households supply the remaining funds as foreign investments. \n",
    "\n",
    "    Using the national income accounts identity, the equality of capital outflows and trade balance implies that the trade balance must also rise. This suggests there is a trade surplus. The interest rate is unaffected, since the policy change occurs in the country which is a small open economy. \n",
    "    \n",
    "    Lastly, since the real exchange rate is inversely related to net exports, a trade surplus implies that the exchange rate has fallen. With more supply of the domestic currency, its value falls, meaning less of the foreign currency can be bought with a single unit of the local currency.\n",
    "\n",
    "4. Suppose a small open economy bans the import of a foreign good. This corresponds to a shift in the net exports schedule. In this case, saving and investment are unaffected. By the national income accounts identity, the trade balance is also unaffected.\n",
    "\n",
    "    However, the trade ban leads to an increase in the real exchange rate in this model. Although imports are reduced by the trade ban, the increase in the real exchange rate suggests that foreign goods have become cheaper relative to domestic goods. This implies that exports will be lower and imports will be higher. The two effects offset each other in this version of the model.\n",
    "\n",
    "5. By the theory of purchasing-power parity, the real exchange rate will be fixed, so all changes in the nominal exchange rate result from changes in price levels. So, if Japan has low inflation relative to Mexico, then Mexico's currency will be cheap relative to the Japanese currency. Then the Japanese currency will be able to buy more units of the Mexican currency over time. This corresponds to an increasing exchange rate, with the Japanese currency as the \"base\" currency (i.e. how many Mexican pesos can be bought with a single Japanese yen)."
   ]
  },
  {
   "cell_type": "markdown",
   "metadata": {},
   "source": [
    "## Problems and applications"
   ]
  },
  {
   "cell_type": "markdown",
   "metadata": {},
   "source": [
    "2. With an economy described by the following equations:\n",
    "\n",
    "\\begin{gather*}\n",
    "Y = C + I + G + NX \\\\\n",
    "Y = 8000 \\\\\n",
    "G = 2500 \\\\\n",
    "T = 2000 \\\\\n",
    "C = 500 + \\frac{2}{3} (Y - T) \\\\\n",
    "I = 900 - 50r \\\\\n",
    "NX = 1500 - 250 \\epsilon \\\\\n",
    "r = r^* = 8\n",
    "\\end{gather*}\n",
    "\n",
    "* Public saving $= T - G = 2000 - 2500 = -500$\n",
    "    \n",
    "    Private saving $= Y - T - C = 1500$\n",
    "    \n",
    "    National saving $= Y - C - G = 1000$\n",
    "\n",
    "    Investment $= 500$\n",
    "\n",
    "    Trade balance uses the fact that $S-I = NX$, so that the trade balance $= 500$\n",
    "\n",
    "    Equilibrium exchange rate $\\epsilon = 4$\n",
    "\n",
    "* Following a cut in $G$ from $2500$ to $2000$, notice that\n",
    "\n",
    "    Public saving $= T - G = 2000 - 2000 = 0$\n",
    "    \n",
    "    Private saving $= Y - T - C = 1500$\n",
    "    \n",
    "    National saving $= Y - C - G = 1500$\n",
    "\n",
    "    Investment $= 500$\n",
    "\n",
    "    Trade balance uses the fact that $S-I = NX$, so that the trade balance $= 1000$\n",
    "\n",
    "    Equilibrium exchange rate $\\epsilon = 2$. So a decrease in government spending, which increases national saving and the trade balance, decreases the exchange rate. \n",
    "\n",
    "* Suppose $G$ remains the same but the interest rate falls from $8$ to $3$ percent. Then,\n",
    "\n",
    "    Public saving $= T - G = 2000 - 2500 = -500$\n",
    "    \n",
    "    Private saving $= Y - T - C = 1500$\n",
    "    \n",
    "    National saving $= Y - C - G = 1000$\n",
    "\n",
    "    Investment $= 750$, so investment rises since the (world) interest rate falls.\n",
    "\n",
    "    Trade balance uses the fact that $S-I = NX$, so that the trade balance $= 250$\n",
    "\n",
    "    Equilibrium exchange rate $\\epsilon = 5$. So a decrease in the interest rate, which increases investment and decreases the trade balance, increases the exchange rate. "
   ]
  },
  {
   "cell_type": "markdown",
   "metadata": {},
   "source": [
    "3. Suppose that the demand for goods in a small open economy falls. So exports fall.\n",
    "\n",
    "* In this case, saving and investment are unaffected. However, the net exports schedule shifts to the left since exports fall. Since this is a small open economy, the (world) interest rate is unaffected. The exchange rate must fall as well.\n",
    "\n",
    "* If the exchange rate falls, then foreign goods are relatively expensive comparerd to domestic goods. So citizens traveling abroad will not enjoy this change in the exchange rate, stimulated by the fall in net exports due to the fall in the demand for their local goods. \n",
    "\n",
    "* The open economy needs to do something to either decrease supply or increase investment so that the curve $S-I$, which describes the supply for foreign currency exchange, shifts to the left enough to get the exchange rate back to its original level. \n",
    "\n",
    "    Since taxes affect $S$, the tax rate needs to be increased so that $S$ falls. Investment would be unaffected, and net exports will fall. Since the change occurs in the small open economy, the interest rate will also be unaffected.\n",
    "\n",
    "4. If $G$ increases in a small open economy, then $S$ falls. This implies that $S-I$ falls, so that $NX$ falls and the economy is in a trade deficit. Since the supply of dollars invested abroad falls, the exchange rate increases. \n",
    "\n",
    "    If, for some reason, the war has an effect on the (world) real interest rate, then the effect may not be the same. That is, the change in the interest rate could rise by enough so that the fall in $S$ is matched by a fall in $I$. In that case, $S-I$ is unchanged, meaning that $NX$ and the exchange rate are unchaged as well.\n",
    "\n",
    "5. This question considers the effects of increased production efficiency and legal protections in a poorer nation.\n",
    "\n",
    "* If production efficiency and legal protection is increased, the investment schedule shifts to the right (an increase at every interest rate). \n",
    "\n",
    "* In this case, investment in the domestic market for loanable funds shifted to the right. In world financial markets, this corresponds to making the gap between $S$ and $I$ smaller (assuming that $I$ exceeds $S$). This is depicted in the graph by the demand for loanable funds, $I$, shifting to the left.\n",
    "\n",
    "    The argument is that, the small open economy, with $S>I$, reduces their net capital outflows with the increase in domestic investment. Then, the rest of the world is receiving less capital from this small open economy, meaning that their net capital outflows must increase (towards 0, since their net capital outflows are negative in the case where they borrow from this \"poorer\" nation).\n",
    "\n",
    "* Since the demand curve $I$ shifts to the left in the world market for loanable funds, the interest rate must fall. \n",
    "\n",
    "* Recall that, for the rich nations, $I$ exceeds $S$. So, if investment falls, then the trade balance moves closer to surplus (i.e. the deficit becomes smaller.)"
   ]
  },
  {
   "cell_type": "markdown",
   "metadata": {},
   "source": [
    "7. We fill in the values of the table using the expression for the nominal exchange rate under the assumption of purchasing power parity (i.e. $\\epsilon = 1$): \n",
    "$$ e = \\epsilon * \\bigg( \\frac{P_{foreign}}{P_{domestic}} \\bigg) $$\n",
    "\n",
    "\n",
    "| Country | Currency | Price of Butterbeer | Predicted exchange rate | Actual exchange rate |\n",
    "|----------|----------|----------|----------|----------|\n",
    "|  Hagrid      |  Fluffy   |  5  |  1  |   N/A   |\n",
    "|  Hermionia   |  Galleon  |  400  |  80 |  70   |\n",
    "|  Potterstan  |  Sickle   |  60   |  12 |  10   |\n",
    "|  Ronland     |  Knut     |  100  |  20 |  N/A  |\n",
    "\n",
    "note: the \"N/A\" values come from the fact that the actual exchange rates need to be measured/come from some dataset.\n"
   ]
  },
  {
   "cell_type": "markdown",
   "metadata": {},
   "source": [
    "9. For Oceania, the small open economy...\n",
    "\n",
    "* The demand schedule for investment in the *world* market for loanable funds will shift to the right due to the investment credit.\n",
    "\n",
    "* The world interest rate will rise in this case. \n",
    "\n",
    "* The higher world interest rate reduces investment in Oceania. \n",
    "\n",
    "* This causes a trade surplus since $S>I$.\n",
    "\n",
    "* In the market for Oceania's currency, this corresponds to a shift to the right on the supply of their currency (since $S-I$ rises). Thus, the exchange rate must fall. "
   ]
  },
  {
   "cell_type": "markdown",
   "metadata": {},
   "source": [
    "11. With the real interest rate the same in both countries, and assuming that the purchasing-power parity holds, consider the following.\n",
    "\n",
    "* Using the fisher equation for each country, expected inflation should be higher in Canada than in the U.S. :\n",
    "\n",
    "$$ i_C = r + \\mathbb{E}[\\pi_C] $$\n",
    "$$ i_{U.S.} = r + \\mathbb{E}[\\pi_{U.S.}] $$\n",
    "\n",
    "* Since the real exchange rate is fixed under purchasing-power parity, we have that $$ (\\pi_{C} - \\pi_{U.S.} > 0) \\implies \\% \\Delta e > 0 $$\n",
    "\n",
    "    so, a dollar will buy more of Canadian currency over time, since Canadian has higher inflation (expectations) than the U.S.\n",
    "\n",
    "* The issue is that the friend will need to withdraw the money in dollars to buy goods in their own country.\n",
    "\n"
   ]
  }
 ],
 "metadata": {
  "kernelspec": {
   "display_name": "Python 3 (ipykernel)",
   "language": "python",
   "name": "python3"
  },
  "language_info": {
   "codemirror_mode": {
    "name": "ipython",
    "version": 3
   },
   "file_extension": ".py",
   "mimetype": "text/x-python",
   "name": "python",
   "nbconvert_exporter": "python",
   "pygments_lexer": "ipython3",
   "version": "3.11.0"
  }
 },
 "nbformat": 4,
 "nbformat_minor": 2
}
