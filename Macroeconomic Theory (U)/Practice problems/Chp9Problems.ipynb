{
 "cells": [
  {
   "cell_type": "markdown",
   "metadata": {},
   "source": [
    "## Problems and applications \n",
    "\n",
    "2. If $n$ falls, then $(\\delta + n)k$ shifts downward. So steady state capital per worker increases. Output per worker is also higher, since $y = f(k)$. \n",
    "\n",
    "Total output is no longer growing in the steady state, since $n=0$.\n",
    "\n",
    "4. The production function is given by $Y = K^{\\frac{1}{2}} (LE)^{\\frac{1}{2}}$\n",
    "\n",
    "* The production function per effective worker is given by \n",
    "\n",
    "$$ \\frac{Y}{L E} = \\frac{K^{\\frac{1}{2}} (LE)^{\\frac{1}{2}}}{LE} = \\frac{K^{\\frac{1}{2}}}{(LE)^{\\frac{1}{2}}} = k^{\\frac{1}{2}} $$\n",
    "\n",
    "* Using the equation describing capital accumulation,\n",
    "\n",
    "\\begin{gather*}\n",
    "\\Delta k = i - \\delta k - nk - gk \\\\\n",
    "= s f(k) - (\\delta + n + g)k \\\\\n",
    "s (k^{*})^{\\frac{1}{2}} - (\\delta + n + g)k^{*} = 0 \\\\\n",
    "\\frac{s}{\\delta + n + g} = (k^*)^{\\frac{1}{2}} \\implies k^* = \\bigg( \\frac{s}{\\delta + n + g}  \\bigg)^2\n",
    "\\end{gather*}\n",
    "\n",
    "so steady state income is given by $f(k^*) = \\frac{s}{\\delta + n + g}$.\n",
    "\n",
    "* For the given values, we have\n",
    "    * steady state income in Atlantis is $= \\frac{s}{\\delta + n + g} = \\frac{.28}{.04+.01+.02}= 4$\n",
    "    * steady state income in Xanadu is $= \\frac{s}{\\delta + n + g} = \\frac{.1}{.04+.04+.02}= 1$"
   ]
  },
  {
   "cell_type": "markdown",
   "metadata": {},
   "source": [
    "5. The production function is given by $Y = K^{\\alpha} (L E)^{1-\\alpha}$ with the following parameter values $$\\alpha = \\frac{1}{3}, s=.24, \\delta=.03, n=.02, g=.01$$\n",
    "\n",
    "* Total output is given by $Y = y * L * E$. Then, $\\% \\Delta Y = n+g$.\n",
    "    \n",
    "    Output per worker is given by $\\frac{Y}{L} = y * E$. Then, $\\% \\Delta \\frac{Y}{L} = g$.\n",
    "    \n",
    "    Output per effective worker is given by $y$. $\\% \\Delta y = 0$. \n",
    "\n",
    "* We can solve for the capital per effective worker, output per effective worker, and the marginal product of capital as the following:\n",
    "\n",
    "    $$ \\frac{Y}{L E} = \\frac{K^{\\frac{1}{3}} (LE)^{\\frac{2}{3}}}{LE} = \\frac{K^{\\frac{1}{3}}}{(LE)^{\\frac{1}{3}}} = k^{\\frac{1}{3}} $$\n",
    "\n",
    "    \\begin{gather*}\n",
    "    \\Delta k = i - \\delta k - nk - gk \\\\\n",
    "    = s f(k) - (\\delta + n + g)k \\\\\n",
    "    s (k^{*})^{\\frac{1}{3}} - (\\delta + n + g)k^{*} = 0 \\\\\n",
    "    \\frac{s}{\\delta + n + g} = (k^*)^{\\frac{2}{3}} \\implies k^* = \\bigg( \\frac{s}{\\delta + n + g}  \\bigg)^\\frac{3}{2} = \\bigg( \\frac{.24}{.03 + .02 + .01} \\bigg)^\\frac{3}{2} = 8\n",
    "    \\end{gather*}\n",
    "\n",
    "    $$ f(k^*) = (k^*)^{\\frac{1}{3}} = (8)^{\\frac{1}{3}} = 2 $$\n",
    "\n",
    "    $$\\frac{d}{dk} (k^{\\frac{1}{3}}) = \\frac{1}{3} k^{-\\frac{2}{3}} = \\frac{1}{3 k^{\\frac{2}{3}}}  $$\n",
    "\n",
    "* Notice that the MPK evaluated at the steady state level of capital is given by \n",
    "\n",
    "    $$ \\frac{1}{3 (8)^{\\frac{2}{3}}} = \\frac{1}{12}$$\n",
    "\n",
    "    Further, the expression which defines the Golden Rule steady state level of capital is $MPK = \\delta + n + g$. So, we have that $$ .0833 > .06. $$ Since MPK is decreasing in capital, then the current steady state capital stock is lower than the on defined by the Golden Rule steady state. The saving rate would need to increase. \n",
    "    \n"
   ]
  },
  {
   "cell_type": "markdown",
   "metadata": {},
   "source": [
    "6. Suppose that the production is Cobb-Douglas with the relevant values for the economy: $$ \\frac{k}{y} = 2.5, \\delta = .04, (n+g) = .03$$\n",
    "\n",
    "* Using the steady state condition for the accumulation of capital, we can pin down the saving rate at this initial steady state to be\n",
    "\n",
    "\\begin{gather*}\n",
    "s y = (\\delta + n + g) k \\\\\n",
    "s = (\\delta + n + g) \\frac{k}{y} \\\\\n",
    "s = (.04 + .03) * 2.5 = .175\n",
    "\\end{gather*}\n",
    "\n",
    "* The marginal product of capital in the initial steady state, given a Cobb-Douglas production function, is $$ MPK = \\alpha \\frac{y}{k} = (.3)\\frac{1}{2.5} = .12$$\n",
    "\n",
    "* For the Golden Rule level of capital, the condition $MPK = (\\delta + n + g)$ must hold. Since $$(\\delta + n + g) = (.04 + .03) = .07,$$ the MPK in the initial steady state is higher than the MPK defined by the Golden Rule level of capital. \n",
    "\n",
    "* Combining the condition for the Golden Rule and the expression for the MPK for a Cobb-Douglas production function, $$ \\delta + n + g = \\alpha \\frac{y}{k} \\implies \\frac{k}{y} = \\frac{\\alpha}{\\delta + n + g}$$\n",
    "\n",
    "* Lastly, returning back to the steady state condition for the accumulation of capital $s = (\\delta + n + g) \\frac{k}{y}$, the saving rate needed to reach the Golden Rule steady state is $\\alpha$."
   ]
  },
  {
   "cell_type": "markdown",
   "metadata": {},
   "source": [
    "8. Consider the Cobb-Douglas production function $F(K,L) = AK^{\\alpha}L^{1-\\alpha}$ for Richland and Poorland, with the following relevant parameters: $$ s_R = .32, s_P = .1, n_R = .01, n_P = .03, \\delta = .05, g = .02 $$\n",
    "\n",
    "* The per worker production function is given by \n",
    "\n",
    "$$ \\frac{F(K,L)}{L} = \\frac{A K^{\\alpha}}{L^{\\alpha}} = A k^{\\alpha}$$\n",
    "\n",
    "* The following condition will define the steady state level of capital for each country, depending on their parameter values\n",
    "\n",
    "\\begin{gather*}\n",
    "0 = sf(k^*) - (\\delta + n + g) k^* \\\\\n",
    "(\\delta + n + g) k^* = s A k^* \\\\\n",
    "(k^*)^{1-\\alpha} = \\frac{s A}{\\delta + n + g} \\\\\n",
    "k^* = \\bigg( \\frac{s A}{\\delta + n + g} \\bigg)^{\\frac{1}{1-\\alpha}}\n",
    "\\end{gather*}\n",
    "\n",
    "Then, the ratio of the steady state level of income for Richland and Poorland is given by \n",
    "\n",
    "$$ \\frac{y_R}{y_P} = \\frac{ \\bigg( \\frac{s_R A}{\\delta + n_R + g} \\bigg)^{\\frac{\\alpha}{1-\\alpha}} }{ \\bigg( \\frac{s_P A}{\\delta + n_P + g} \\bigg)^{\\frac{\\alpha}{1-\\alpha}} } = \\bigg( \\frac{\\frac{s_R }{\\delta + n_R + g}}{\\frac{s_P }{\\delta + n_P + g}} \\bigg)^{\\frac{\\alpha}{1-\\alpha}} = \\bigg( \\frac{4}{1} \\bigg)^{\\frac{\\alpha}{1-\\alpha}} $$\n",
    "\n",
    "* Now, suppose that $\\alpha = \\frac{1}{3}$. Then, for $\\frac{y_R}{y_P}$, we have  $$ 4^{\\frac{\\alpha}{1-\\alpha}} = 4^{\\frac{\\frac{1}{3}}{\\frac{2}{3}}} = 2 $$\n",
    " so the income per worker is twice as high in Richland as it is in Poorland. "
   ]
  },
  {
   "cell_type": "markdown",
   "metadata": {},
   "source": []
  }
 ],
 "metadata": {
  "kernelspec": {
   "display_name": "Python 3 (ipykernel)",
   "language": "python",
   "name": "python3"
  },
  "language_info": {
   "codemirror_mode": {
    "name": "ipython",
    "version": 3
   },
   "file_extension": ".py",
   "mimetype": "text/x-python",
   "name": "python",
   "nbconvert_exporter": "python",
   "pygments_lexer": "ipython3",
   "version": "3.11.0"
  }
 },
 "nbformat": 4,
 "nbformat_minor": 2
}
