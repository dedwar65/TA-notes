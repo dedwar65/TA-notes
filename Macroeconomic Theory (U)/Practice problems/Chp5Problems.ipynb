{
 "cells": [
  {
   "cell_type": "markdown",
   "metadata": {},
   "source": [
    "## Problems and applications\n",
    "\n",
    "1. From the quantity equation $M \\overline{V} = P Y$ and from the fisher equation $i = r + \\pi$, we can compute the following:\n",
    "\n",
    "* For the growth in nominal GDP,\n",
    "\\begin{gather*}\n",
    "\\% \\Delta M + \\% \\Delta V = \\% \\Delta P + \\% \\Delta Y \\\\\n",
    "\\% \\Delta M = \\% \\Delta P + \\% \\Delta Y \\\\\n",
    "8\\% = \\% \\Delta P + \\% \\Delta Y \\\\\n",
    "\\end{gather*}\n",
    "\n",
    "* For the inflation rate,\n",
    "\\begin{gather*}\n",
    "\\% \\Delta M = \\% \\Delta P + \\% \\Delta Y \\\\\n",
    "8\\% = \\% \\Delta P + \\% 3 \\\\\n",
    "\\implies \\% \\Delta P = \\% 5 \\\\\n",
    "\\end{gather*}\n",
    "\n",
    "* For the growth in the real interest rate,\n",
    "\\begin{gather*}\n",
    "i = r + \\pi  \\\\\n",
    "\\% \\Delta i = \\% \\Delta r + \\% \\Delta P \\\\\n",
    "9\\% = \\% \\Delta r + \\% 5 \\\\\n",
    "\\implies \\% \\Delta r = \\% 4\n",
    "\\end{gather*}"
   ]
  },
  {
   "cell_type": "markdown",
   "metadata": {},
   "source": [
    "2. The money demand function is given by $(\\frac{M}{P})^{d} = k Y$. \n",
    "\n",
    "* The average inflation rate is \n",
    "\n",
    "\\begin{gather*}\n",
    "\\% \\Delta M - \\% \\Delta P = \\% \\Delta Y \\\\\n",
    "12 \\% - \\% \\Delta P = 4 \\% \\\\\n",
    "\\implies \\% \\Delta P = 8 \\% \\\\\n",
    "\\end{gather*}\n",
    "\n",
    "* If real income growth was higher, then the inflation rate would be lower.\n",
    "\n",
    "* $k$ can be interpreted as how much real money balances is demanded for each unit of income $Y$.\n",
    "\n",
    "* Then the right hand side of the expression would be higher. This would also correspond to a decrease in the inflation rate.\n",
    "\n",
    "3. The money demand function is given by $(\\frac{M}{P})^{d} = .2 \\frac{Y}{\\sqrt{i}}$. \n",
    "\n",
    "* Notice that $k = \\frac{.2}{\\sqrt{i}} \\implies \\frac{1}{k} = \\frac{\\sqrt{i}}{2} = V$\n",
    "\n",
    "    In this case, the velocity of money depends on the interest rate.\n",
    "\n",
    "* With $i = \\% 4$, we have\n",
    "\n",
    "$$ \\frac{\\sqrt{.04}}{2} = \\frac{.2}{2} = .1 = V $$\n",
    "\n",
    "* From the quantity equation, we have \n",
    "$$M V = P Y \\implies (1200)(.1) = P(1000) \\implies P =\\frac{120}{1000} =.12$$\n",
    "\n",
    "* Using the fisher equation adjusted for inflation expectations, $i = r + \\mathbb{E}[\\pi]$, if these expectations increase by five percentage points, and $r$ stays the same, then the L.H.S. of the expression must also grow by five percentage points. Thus, $i = .09$ or $9\\%$.\n",
    "\n",
    "* The new velocity of money is given by $\\frac{\\sqrt{.09}}{2} = \\frac{.3}{2} = .15 = V$.\n",
    "\n",
    "* Recall the quantity equation $M V = P Y$, if $M,Y$ unchanged and $V$ increases from $.1$ to $.15$. then the price level must increases.\n",
    "\n",
    "* To keep the price level unchanged, then the R.H.S. must remain unchanged. This implies that the L.H.S. must stay unchanged. Thus, the money supply must fall by five percentage points so that the percentage changes on the L.H.S. must balance out. Thus, $$ M' = (.95)(1200) = 1140. $$\n"
   ]
  },
  {
   "cell_type": "markdown",
   "metadata": {},
   "source": [
    "4. The money demand function is given by $(\\frac{M}{P})^{d} = .2 \\frac{Y}{5i}$. \n",
    "\n",
    "* If $i$ has a constant growth rate, then the sum of the growth rates on the R.H.S. is $g$. Since L.H.S. $=$ R.H.S, the growth rate of $\\frac{M}{P}$ must also be $g$.\n",
    "\n",
    "* By the quantity of money equation, $M V = P Y$, so $$ M * 5i = P Y $$ and $V = 5i$.\n",
    "\n",
    "* If $i$ is has a constant growth rate, then $V = 5i$ is also constant.\n",
    "\n",
    "* There will be an associated permanent increase in the velocity of money. It will have a growth rate (that is not constant) between any period before the change occurs and the period where the change occurs. After this period, the growth rate of the velocity of money will go back to being constant.\n",
    "\n",
    "* Assuming $V$ has a constant growth rate, suppose the economy is at the target rate of inflation. Then, to make sure this $\\% \\Delta P$ stays the same, it must be that \n",
    "\n",
    "$$ \\% \\Delta M - \\% \\Delta Y = \\% \\Delta P $$\n",
    "$$ \\implies \\% \\Delta M = \\% \\Delta P - \\% \\Delta Y .$$"
   ]
  }
 ],
 "metadata": {
  "kernelspec": {
   "display_name": "Python 3 (ipykernel)",
   "language": "python",
   "name": "python3"
  },
  "language_info": {
   "codemirror_mode": {
    "name": "ipython",
    "version": 3
   },
   "file_extension": ".py",
   "mimetype": "text/x-python",
   "name": "python",
   "nbconvert_exporter": "python",
   "pygments_lexer": "ipython3",
   "version": "3.11.0"
  }
 },
 "nbformat": 4,
 "nbformat_minor": 2
}
